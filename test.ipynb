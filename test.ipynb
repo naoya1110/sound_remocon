{
 "cells": [
  {
   "cell_type": "code",
   "execution_count": 2,
   "id": "c27065b3",
   "metadata": {},
   "outputs": [],
   "source": [
    "import numpy as np"
   ]
  },
  {
   "cell_type": "code",
   "execution_count": null,
   "id": "96653b62",
   "metadata": {},
   "outputs": [
    {
     "data": {
      "text/plain": [
       "array([  100.        ,   138.94954944,   193.06977289,   268.26957953,\n",
       "         372.75937203,   517.94746792,   719.685673  ,  1000.        ,\n",
       "        1389.49549437,  1930.69772888,  2682.69579528,  3727.59372031,\n",
       "        5179.47467923,  7196.85673001, 10000.        ])"
      ]
     },
     "execution_count": 16,
     "metadata": {},
     "output_type": "execute_result"
    }
   ],
   "source": [
    "np.logspace(2, 4, 15)"
   ]
  },
  {
   "cell_type": "code",
   "execution_count": null,
   "id": "76ade6b6",
   "metadata": {},
   "outputs": [],
   "source": [
    "100\n",
    "140\n",
    "190\n",
    "270\n",
    "370\n",
    "520\n",
    "720\n",
    "1000\n",
    "1390\n",
    "1930\n",
    "2680\n",
    "3730\n",
    "5180\n"
   ]
  },
  {
   "cell_type": "code",
   "execution_count": 22,
   "id": "c506d1c4",
   "metadata": {},
   "outputs": [
    {
     "data": {
      "text/plain": [
       "array([ 500, 1000, 1500, 2000, 2500, 3000, 3500, 4000, 4500, 5000, 5500,\n",
       "       6000, 6500, 7000, 7500, 8000, 8500, 9000, 9500])"
      ]
     },
     "execution_count": 22,
     "metadata": {},
     "output_type": "execute_result"
    }
   ],
   "source": [
    "np.arange(500, 10000, 500)"
   ]
  },
  {
   "cell_type": "code",
   "execution_count": null,
   "id": "7ce4011a",
   "metadata": {},
   "outputs": [],
   "source": []
  }
 ],
 "metadata": {
  "kernelspec": {
   "display_name": "venv202201",
   "language": "python",
   "name": "python3"
  },
  "language_info": {
   "codemirror_mode": {
    "name": "ipython",
    "version": 3
   },
   "file_extension": ".py",
   "mimetype": "text/x-python",
   "name": "python",
   "nbconvert_exporter": "python",
   "pygments_lexer": "ipython3",
   "version": "3.10.1"
  }
 },
 "nbformat": 4,
 "nbformat_minor": 5
}
