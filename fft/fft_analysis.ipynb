{
 "cells": [
  {
   "cell_type": "code",
   "execution_count": 2,
   "id": "937a83e4",
   "metadata": {},
   "outputs": [],
   "source": [
    "import numpy as np\n",
    "import matplotlib.pyplot as plt\n",
    "import pandas as pd\n",
    "import os"
   ]
  },
  {
   "cell_type": "code",
   "execution_count": 10,
   "id": "28716a38",
   "metadata": {},
   "outputs": [],
   "source": [
    "RATE = 44100\n",
    "CHUNK = 1024*8"
   ]
  },
  {
   "cell_type": "code",
   "execution_count": 42,
   "id": "7d908662",
   "metadata": {},
   "outputs": [
    {
     "data": {
      "text/plain": [
       "['raw_signal_teams_10000Hz_20250825_171012.csv',\n",
       " 'raw_signal_teams_10000Hz_20250825_171019.csv',\n",
       " 'raw_signal_teams_10000Hz_20250825_171024.csv',\n",
       " 'raw_signal_teams_1000Hz_20250825_161041.csv',\n",
       " 'raw_signal_teams_1000Hz_20250825_161054.csv']"
      ]
     },
     "execution_count": 42,
     "metadata": {},
     "output_type": "execute_result"
    }
   ],
   "source": [
    "data_dir = \"raw_data/teams\"\n",
    "filenames = os.listdir(data_dir)\n",
    "filenames = sorted(filenames)\n",
    "filenames[:5]"
   ]
  },
  {
   "cell_type": "code",
   "execution_count": 43,
   "id": "af5c27f2",
   "metadata": {},
   "outputs": [],
   "source": [
    "def find_peak_in_fft(df):\n",
    "    audio_data = df[\"signal\"]\n",
    "    fft_result = np.fft.fft(audio_data)\n",
    "    fft_result = np.abs(fft_result)[:CHUNK // 2]\n",
    "    x_freq_data = np.fft.fftfreq(CHUNK, d=1/RATE)[:CHUNK // 2]\n",
    "    peak_idx = np.argmax(fft_result)\n",
    "    peak_freq = x_freq_data[peak_idx]\n",
    "    peak_amp = fft_result[peak_idx]\n",
    "    return peak_freq, peak_amp"
   ]
  },
  {
   "cell_type": "code",
   "execution_count": 44,
   "id": "6c0cdde6",
   "metadata": {},
   "outputs": [
    {
     "name": "stdout",
     "output_type": "stream",
     "text": [
      "raw_signal_teams_10000Hz_20250825_171012.csv 10000 10002.1728515625 37685.923774245886\n",
      "raw_signal_teams_10000Hz_20250825_171019.csv 10000 10002.1728515625 34537.842588954045\n",
      "raw_signal_teams_10000Hz_20250825_171024.csv 10000 10002.1728515625 33864.64146173469\n",
      "raw_signal_teams_1000Hz_20250825_161041.csv 1000 1001.2939453125 46721.88307430264\n",
      "raw_signal_teams_1000Hz_20250825_161054.csv 1000 1001.2939453125 46889.30547494397\n",
      "raw_signal_teams_1000Hz_20250825_161058.csv 1000 1001.2939453125 45905.37994625167\n",
      "raw_signal_teams_100Hz_20250825_161800.csv 100 102.28271484375 32784.54038184306\n",
      "raw_signal_teams_100Hz_20250825_161815.csv 100 102.28271484375 33006.16926533201\n",
      "raw_signal_teams_100Hz_20250825_161820.csv 100 102.28271484375 31231.736016721836\n",
      "raw_signal_teams_10500Hz_20250825_171223.csv 10500 10497.4365234375 33356.63286606507\n",
      "raw_signal_teams_10500Hz_20250825_171229.csv 10500 10502.81982421875 29578.09216266316\n",
      "raw_signal_teams_10500Hz_20250825_171234.csv 10500 10497.4365234375 32115.060271610542\n",
      "raw_signal_teams_11000Hz_20250825_171436.csv 11000 10998.08349609375 33584.91224891236\n",
      "raw_signal_teams_11000Hz_20250825_171443.csv 11000 10998.08349609375 32947.117695183726\n",
      "raw_signal_teams_11000Hz_20250825_171449.csv 11000 10998.08349609375 34142.33087526243\n",
      "raw_signal_teams_11500Hz_20250825_171934.csv 11500 11498.73046875 43572.19354316974\n",
      "raw_signal_teams_11500Hz_20250825_171943.csv 11500 11498.73046875 44312.690994579665\n",
      "raw_signal_teams_11500Hz_20250825_171950.csv 11500 11498.73046875 42268.007739462104\n",
      "raw_signal_teams_12000Hz_20250825_172210.csv 12000 11999.37744140625 47634.09309431835\n",
      "raw_signal_teams_12000Hz_20250825_172221.csv 12000 11999.37744140625 47396.903713723754\n",
      "raw_signal_teams_12000Hz_20250825_172226.csv 12000 11999.37744140625 46792.23003044281\n",
      "raw_signal_teams_12500Hz_20250825_172422.csv 12500 12500.0244140625 46977.99238001283\n",
      "raw_signal_teams_12500Hz_20250825_172430.csv 12500 12500.0244140625 46387.39106645125\n",
      "raw_signal_teams_12500Hz_20250825_172436.csv 12500 12500.0244140625 46289.94594372415\n",
      "raw_signal_teams_13000Hz_20250825_172623.csv 13000 13000.67138671875 39944.027407745554\n",
      "raw_signal_teams_13000Hz_20250825_172632.csv 13000 13000.67138671875 39552.78110222962\n",
      "raw_signal_teams_13000Hz_20250825_172638.csv 13000 13000.67138671875 39782.85933728249\n",
      "raw_signal_teams_13500Hz_20250825_172836.csv 13500 13501.318359375 25823.65332254107\n",
      "raw_signal_teams_13500Hz_20250825_172842.csv 13500 13501.318359375 24767.440399533814\n",
      "raw_signal_teams_13500Hz_20250825_172847.csv 13500 13501.318359375 25156.261571514344\n",
      "raw_signal_teams_14000Hz_20250825_173031.csv 14000 14001.96533203125 24491.63163581193\n",
      "raw_signal_teams_14000Hz_20250825_173040.csv 14000 14001.96533203125 23857.442832170673\n",
      "raw_signal_teams_14000Hz_20250825_173044.csv 14000 14001.96533203125 24728.486479779407\n",
      "raw_signal_teams_14500Hz_20250825_173315.csv 14500 14502.6123046875 16160.796160668951\n",
      "raw_signal_teams_14500Hz_20250825_173321.csv 14500 14502.6123046875 15485.257371356438\n",
      "raw_signal_teams_14500Hz_20250825_173326.csv 14500 14502.6123046875 16094.499569009382\n",
      "raw_signal_teams_15000Hz_20250825_173504.csv 15000 0.0 23650.0\n",
      "raw_signal_teams_15000Hz_20250825_173511.csv 15000 0.0 11973.0\n",
      "raw_signal_teams_15000Hz_20250825_173519.csv 15000 14997.8759765625 6201.74743948222\n",
      "raw_signal_teams_1500Hz_20250825_162606.csv 1500 1501.94091796875 37528.30530992934\n",
      "raw_signal_teams_1500Hz_20250825_162617.csv 1500 1501.94091796875 37454.981361012484\n",
      "raw_signal_teams_1500Hz_20250825_162621.csv 1500 1501.94091796875 37312.751572634246\n",
      "raw_signal_teams_15250Hz_20250825_174709.csv 15250 15250.89111328125 13068.167950912813\n",
      "raw_signal_teams_15250Hz_20250825_174752.csv 15250 15250.89111328125 12692.25904431176\n",
      "raw_signal_teams_15250Hz_20250825_174757.csv 15250 15250.89111328125 12512.024139782348\n",
      "raw_signal_teams_15500Hz_20250825_173819.csv 15500 0.0 8516.0\n",
      "raw_signal_teams_15500Hz_20250825_173827.csv 15500 0.0 7267.0\n",
      "raw_signal_teams_15500Hz_20250825_173833.csv 15500 10.7666015625 6011.182355376038\n",
      "raw_signal_teams_15750Hz_20250825_174400.csv 15750 0.0 11600.0\n",
      "raw_signal_teams_15750Hz_20250825_174406.csv 15750 0.0 8592.0\n",
      "raw_signal_teams_15750Hz_20250825_174412.csv 15750 15751.5380859375 6770.7659588722745\n",
      "raw_signal_teams_16000Hz_20250825_174112.csv 16000 5.38330078125 8850.401707149049\n",
      "raw_signal_teams_16000Hz_20250825_174120.csv 16000 10.7666015625 5767.051795988934\n",
      "raw_signal_teams_16000Hz_20250825_174127.csv 16000 0.0 11780.0\n",
      "raw_signal_teams_2000Hz_20250825_162826.csv 2000 2002.587890625 31003.40602399148\n",
      "raw_signal_teams_2000Hz_20250825_162836.csv 2000 2002.587890625 30817.41969284885\n",
      "raw_signal_teams_2000Hz_20250825_162841.csv 2000 2002.587890625 30711.57403262908\n",
      "raw_signal_teams_200Hz_20250825_161552.csv 200 199.18212890625 50651.24897691117\n",
      "raw_signal_teams_200Hz_20250825_161609.csv 200 199.18212890625 47750.30960214396\n",
      "raw_signal_teams_200Hz_20250825_161614.csv 200 199.18212890625 48332.66783760091\n",
      "raw_signal_teams_2500Hz_20250825_163045.csv 2500 2497.8515625 35894.66454387754\n",
      "raw_signal_teams_2500Hz_20250825_163057.csv 2500 2497.8515625 34920.99582584224\n",
      "raw_signal_teams_2500Hz_20250825_163103.csv 2500 2503.23486328125 32650.48912956694\n",
      "raw_signal_teams_3000Hz_20250825_163252.csv 3000 2998.49853515625 40687.41049791135\n",
      "raw_signal_teams_3000Hz_20250825_163327.csv 3000 2998.49853515625 40958.96385726525\n",
      "raw_signal_teams_3000Hz_20250825_163332.csv 3000 2998.49853515625 40274.57847709998\n",
      "raw_signal_teams_300Hz_20250825_162014.csv 300 301.46484375 42439.48505661602\n",
      "raw_signal_teams_300Hz_20250825_162022.csv 300 301.46484375 43880.11808617846\n",
      "raw_signal_teams_300Hz_20250825_162028.csv 300 301.46484375 41458.6416791831\n",
      "raw_signal_teams_3500Hz_20250825_163736.csv 3500 3499.1455078125 43035.26044685115\n",
      "raw_signal_teams_3500Hz_20250825_163744.csv 3500 3499.1455078125 43057.25739391495\n",
      "raw_signal_teams_3500Hz_20250825_163802.csv 3500 3499.1455078125 40448.477651380344\n",
      "raw_signal_teams_4000Hz_20250825_164325.csv 4000 3999.79248046875 44788.12268374757\n",
      "raw_signal_teams_4000Hz_20250825_164334.csv 4000 3999.79248046875 44670.997375916355\n",
      "raw_signal_teams_4000Hz_20250825_164339.csv 4000 3999.79248046875 45401.82622714595\n",
      "raw_signal_teams_400Hz_20250825_162213.csv 400 398.3642578125 45576.19671474346\n",
      "raw_signal_teams_400Hz_20250825_162219.csv 400 398.3642578125 43943.29749630875\n",
      "raw_signal_teams_400Hz_20250825_162224.csv 400 398.3642578125 42504.89072119838\n",
      "raw_signal_teams_4500Hz_20250825_164614.csv 4500 4500.439453125 44253.01997520989\n",
      "raw_signal_teams_4500Hz_20250825_164623.csv 4500 4500.439453125 43334.528480174464\n",
      "raw_signal_teams_4500Hz_20250825_164627.csv 4500 4500.439453125 43165.67752581464\n",
      "raw_signal_teams_5000Hz_20250825_164828.csv 5000 5001.08642578125 40075.975905359024\n",
      "raw_signal_teams_5000Hz_20250825_164838.csv 5000 5001.08642578125 40268.14159962065\n",
      "raw_signal_teams_5000Hz_20250825_164843.csv 5000 5001.08642578125 40968.02127127592\n",
      "raw_signal_teams_500Hz_20250825_161319.csv 500 500.64697265625 50554.434500131356\n",
      "raw_signal_teams_500Hz_20250825_161327.csv 500 500.64697265625 52467.1310748347\n",
      "raw_signal_teams_500Hz_20250825_161334.csv 500 500.64697265625 52746.23256196418\n",
      "raw_signal_teams_5500Hz_20250825_165045.csv 5500 5501.7333984375 38273.81476861324\n",
      "raw_signal_teams_5500Hz_20250825_165052.csv 5500 5501.7333984375 36867.195254210696\n",
      "raw_signal_teams_5500Hz_20250825_165057.csv 5500 5501.7333984375 36468.57561505534\n",
      "raw_signal_teams_6000Hz_20250825_165244.csv 6000 6002.38037109375 30642.2421416771\n",
      "raw_signal_teams_6000Hz_20250825_165250.csv 6000 6002.38037109375 29230.06492932033\n",
      "raw_signal_teams_6000Hz_20250825_165259.csv 6000 6002.38037109375 29660.922206465766\n",
      "raw_signal_teams_6500Hz_20250825_165442.csv 6500 6497.64404296875 27952.49280019914\n",
      "raw_signal_teams_6500Hz_20250825_165451.csv 6500 6503.02734375 28063.444508247674\n",
      "raw_signal_teams_6500Hz_20250825_165458.csv 6500 6503.02734375 28162.209120643827\n",
      "raw_signal_teams_7000Hz_20250825_165656.csv 7000 6998.291015625 31386.689030962567\n",
      "raw_signal_teams_7000Hz_20250825_165703.csv 7000 6998.291015625 33189.28120404628\n",
      "raw_signal_teams_7000Hz_20250825_165724.csv 7000 6998.291015625 32842.79215157809\n",
      "raw_signal_teams_700Hz_20250825_162404.csv 700 699.8291015625 46518.489389921175\n",
      "raw_signal_teams_700Hz_20250825_162413.csv 700 699.8291015625 47544.78941631199\n",
      "raw_signal_teams_700Hz_20250825_162418.csv 700 699.8291015625 46485.07630346496\n",
      "raw_signal_teams_7500Hz_20250825_165918.csv 7500 7498.93798828125 38843.51039352841\n",
      "raw_signal_teams_7500Hz_20250825_165927.csv 7500 7498.93798828125 37877.891627824254\n",
      "raw_signal_teams_7500Hz_20250825_165934.csv 7500 7498.93798828125 39289.27443654309\n",
      "raw_signal_teams_8000Hz_20250825_170119.csv 8000 7999.5849609375 41120.14118475469\n",
      "raw_signal_teams_8000Hz_20250825_170128.csv 8000 7999.5849609375 41632.16305411387\n",
      "raw_signal_teams_8000Hz_20250825_170134.csv 8000 7999.5849609375 41689.38327287395\n",
      "raw_signal_teams_8500Hz_20250825_170327.csv 8500 8500.23193359375 41951.94357428434\n",
      "raw_signal_teams_8500Hz_20250825_170339.csv 8500 8500.23193359375 41630.66398560746\n",
      "raw_signal_teams_8500Hz_20250825_170345.csv 8500 8500.23193359375 41578.008145972926\n",
      "raw_signal_teams_9000Hz_20250825_170556.csv 9000 9000.87890625 41897.06833873581\n",
      "raw_signal_teams_9000Hz_20250825_170602.csv 9000 9000.87890625 42272.09030676192\n",
      "raw_signal_teams_9000Hz_20250825_170607.csv 9000 9000.87890625 42105.58061010047\n",
      "raw_signal_teams_9500Hz_20250825_170752.csv 9500 9501.52587890625 40864.15740048678\n",
      "raw_signal_teams_9500Hz_20250825_170802.csv 9500 9501.52587890625 39895.87137007027\n",
      "raw_signal_teams_9500Hz_20250825_170810.csv 9500 9501.52587890625 41263.65908550907\n"
     ]
    }
   ],
   "source": [
    "set_freq_list = []\n",
    "peak_freq_list = []\n",
    "peak_amp_list = []\n",
    "\n",
    "for filename in filenames:\n",
    "    set_freq = filename.split(\"_\")[3][:-2]\n",
    "    set_freq = int(set_freq)\n",
    "    \n",
    "    df = pd.read_csv(os.path.join(data_dir, filename))\n",
    "    peak_freq, peak_amp = find_peak_in_fft(df)\n",
    "    \n",
    "    print(filename, set_freq, peak_freq, peak_amp)\n",
    "    \n",
    "    set_freq_list.append(set_freq)\n",
    "    peak_freq_list.append(peak_freq)\n",
    "    peak_amp_list.append(peak_amp)\n",
    "    \n",
    "result_df = pd.DataFrame({\n",
    "    \"set_freq\": set_freq_list,\n",
    "    \"peak_freq\": peak_freq_list,\n",
    "    \"peak_amp\": peak_amp_list\n",
    "})\n",
    "\n",
    "result_df.sort_values(\"set_freq\", inplace=True)\n",
    "result_df.reset_index(drop=True, inplace=True)\n",
    "result_df\n",
    "\n",
    "result_df.to_csv(f\"fft_peak_results_{data_dir.split('/')[-1]}.csv\", index=False)"
   ]
  },
  {
   "cell_type": "code",
   "execution_count": 45,
   "id": "99191a08",
   "metadata": {},
   "outputs": [],
   "source": [
    "df_fft_result_teams = pd.read_csv(\"fft_peak_results_teams.csv\")\n",
    "df_fft_result_original = pd.read_csv(\"fft_peak_results_original.csv\")"
   ]
  },
  {
   "cell_type": "code",
   "execution_count": 55,
   "id": "8356bbc9",
   "metadata": {},
   "outputs": [
    {
     "data": {
      "text/plain": [
       "<matplotlib.legend.Legend at 0x24188d075e0>"
      ]
     },
     "execution_count": 55,
     "metadata": {},
     "output_type": "execute_result"
    },
    {
     "data": {
      "image/png": "[encoded data removed]",
      "text/plain": [
       "<Figure size 864x432 with 1 Axes>"
      ]
     },
     "metadata": {
      "needs_background": "light"
     },
     "output_type": "display_data"
    }
   ],
   "source": [
    "plt.figure(figsize=(12, 6))\n",
    "plt.plot(df_fft_result_teams[\"peak_freq\"], df_fft_result_teams[\"peak_amp\"]/df_fft_result_teams[\"peak_amp\"].max(), label=\"Teams\", marker='o', lw=0)\n",
    "plt.plot(df_fft_result_original[\"peak_freq\"], df_fft_result_original[\"peak_amp\"]/df_fft_result_original[\"peak_amp\"].max(), label=\"Original\", marker='o', lw=0)\n",
    "plt.ylim(0, 1.2)\n",
    "plt.legend()"
   ]
  },
  {
   "cell_type": "code",
   "execution_count": 25,
   "id": "e29b29f5",
   "metadata": {},
   "outputs": [
    {
     "name": "stdout",
     "output_type": "stream",
     "text": [
      "raw_signal_teams_10000Hz_20250825_171012.csv\n",
      "10000\n"
     ]
    }
   ],
   "source": [
    "filename = filenames[0]\n",
    "set_freq = filename.split(\"_\")[3][:-2]\n",
    "set_freq = int(set_freq)\n",
    "print(filename)\n",
    "print(set_freq)"
   ]
  },
  {
   "cell_type": "code",
   "execution_count": 19,
   "id": "c1e7a158",
   "metadata": {},
   "outputs": [
    {
     "data": {
      "text/html": [
       "<div>\n",
       "<style scoped>\n",
       "    .dataframe tbody tr th:only-of-type {\n",
       "        vertical-align: middle;\n",
       "    }\n",
       "\n",
       "    .dataframe tbody tr th {\n",
       "        vertical-align: top;\n",
       "    }\n",
       "\n",
       "    .dataframe thead th {\n",
       "        text-align: right;\n",
       "    }\n",
       "</style>\n",
       "<table border=\"1\" class=\"dataframe\">\n",
       "  <thead>\n",
       "    <tr style=\"text-align: right;\">\n",
       "      <th></th>\n",
       "      <th>time(s)</th>\n",
       "      <th>sigal</th>\n",
       "    </tr>\n",
       "  </thead>\n",
       "  <tbody>\n",
       "    <tr>\n",
       "      <th>0</th>\n",
       "      <td>0.000000</td>\n",
       "      <td>13</td>\n",
       "    </tr>\n",
       "    <tr>\n",
       "      <th>1</th>\n",
       "      <td>0.000023</td>\n",
       "      <td>14</td>\n",
       "    </tr>\n",
       "    <tr>\n",
       "      <th>2</th>\n",
       "      <td>0.000045</td>\n",
       "      <td>-2</td>\n",
       "    </tr>\n",
       "    <tr>\n",
       "      <th>3</th>\n",
       "      <td>0.000068</td>\n",
       "      <td>-7</td>\n",
       "    </tr>\n",
       "    <tr>\n",
       "      <th>4</th>\n",
       "      <td>0.000091</td>\n",
       "      <td>7</td>\n",
       "    </tr>\n",
       "  </tbody>\n",
       "</table>\n",
       "</div>"
      ],
      "text/plain": [
       "    time(s)  sigal\n",
       "0  0.000000     13\n",
       "1  0.000023     14\n",
       "2  0.000045     -2\n",
       "3  0.000068     -7\n",
       "4  0.000091      7"
      ]
     },
     "execution_count": 19,
     "metadata": {},
     "output_type": "execute_result"
    }
   ],
   "source": [
    "filepath = os.path.join(data_dir, filenames[0])\n",
    "df = pd.read_csv(filepath)\n",
    "df.head()"
   ]
  },
  {
   "cell_type": "code",
   "execution_count": 21,
   "id": "a863515c",
   "metadata": {},
   "outputs": [
    {
     "name": "stdout",
     "output_type": "stream",
     "text": [
      "10002.1728515625 37685.923774245886\n"
     ]
    },
    {
     "data": {
      "image/png": "[encoded data removed]",
      "text/plain": [
       "<Figure size 720x576 with 2 Axes>"
      ]
     },
     "metadata": {
      "needs_background": "light"
     },
     "output_type": "display_data"
    }
   ],
   "source": [
    "audio_data = df[\"sigal\"]\n",
    "x_time_data = df[\"time(s)\"]\n",
    "\n",
    "# FFT of the single chunk\n",
    "fft_result = np.fft.fft(audio_data)\n",
    "x_freq_data = np.fft.fftfreq(CHUNK, d=1/RATE)[:CHUNK // 2]\n",
    "fft_result = np.abs(fft_result)[:CHUNK // 2]\n",
    "\n",
    "# --- Matplotlib Setup ---\n",
    "fig, (ax1, ax2) = plt.subplots(2, 1, figsize=(10, 8))\n",
    "\n",
    "# Subplot 1: Raw Signal (Time Domain)\n",
    "x_time_data = np.arange(0, CHUNK) / RATE\n",
    "ax1.plot(x_time_data, audio_data)\n",
    "#ax1.set_ylim(-50, 50000)\n",
    "ax1.set_xlim(0, CHUNK / RATE)\n",
    "ax1.set_title(\"Real-Time Audio Signal\")\n",
    "ax1.set_xlabel(\"Time (s)\")\n",
    "ax1.set_ylabel(\"Amplitude\")\n",
    "ax1.grid()\n",
    "\n",
    "# Subplot 2: FFT Spectrum (Frequency Domain)\n",
    "x_freq_data = np.fft.fftfreq(CHUNK, d=1/RATE)[:CHUNK // 2]\n",
    "fft_result = np.abs(fft_result)[:CHUNK // 2]\n",
    "ax2.plot(x_freq_data, fft_result)\n",
    "#ax2.set_ylim(0, 3E8)\n",
    "ax2.set_xlim(0, RATE / 2)\n",
    "ax2.set_title(\"Real-Time Audio FFT Spectrum\")\n",
    "ax2.set_xlabel(\"Frequency (Hz)\")\n",
    "ax2.set_ylabel(\"Amplitude\")\n",
    "ax2.grid()\n",
    "\n",
    "# find peak frequency\n",
    "peak_idx = np.argmax(fft_result)\n",
    "peak_freq = x_freq_data[peak_idx]\n",
    "peak_amp = fft_result[peak_idx]\n",
    "\n",
    "print(peak_freq, peak_amp)"
   ]
  },
  {
   "cell_type": "code",
   "execution_count": 22,
   "id": "fea3c034",
   "metadata": {},
   "outputs": [
    {
     "data": {
      "text/plain": [
       "(10002.1728515625, 37685.923774245886)"
      ]
     },
     "execution_count": 22,
     "metadata": {},
     "output_type": "execute_result"
    }
   ],
   "source": [
    "def find_peak_in_fft(df):\n",
    "    audio_data = df[\"sigal\"]\n",
    "    fft_result = np.fft.fft(audio_data)\n",
    "    fft_result = np.abs(fft_result)[:CHUNK // 2]\n",
    "    x_freq_data = np.fft.fftfreq(CHUNK, d=1/RATE)[:CHUNK // 2]\n",
    "    peak_idx = np.argmax(fft_result)\n",
    "    peak_freq = x_freq_data[peak_idx]\n",
    "    peak_amp = fft_result[peak_idx]\n",
    "    return peak_freq, peak_amp\n",
    "\n",
    "find_peak_in_fft(df)"
   ]
  },
  {
   "cell_type": "code",
   "execution_count": null,
   "id": "f088e4b5",
   "metadata": {},
   "outputs": [],
   "source": []
  }
 ],
 "metadata": {
  "kernelspec": {
   "display_name": "venv202201",
   "language": "python",
   "name": "python3"
  },
  "language_info": {
   "codemirror_mode": {
    "name": "ipython",
    "version": 3
   },
   "file_extension": ".py",
   "mimetype": "text/x-python",
   "name": "python",
   "nbconvert_exporter": "python",
   "pygments_lexer": "ipython3",
   "version": "3.10.6"
  }
 },
 "nbformat": 4,
 "nbformat_minor": 5
}
